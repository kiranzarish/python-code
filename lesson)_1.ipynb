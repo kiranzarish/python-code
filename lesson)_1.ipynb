{
 "cells": [
  {
   "cell_type": "code",
   "execution_count": 1,
   "metadata": {},
   "outputs": [
    {
     "name": "stdout",
     "output_type": "stream",
     "text": [
      "the result of var1+var2 is: 35\n"
     ]
    }
   ],
   "source": [
    "#variable\n",
    "var1=15\n",
    "var2=20\n",
    "sum=var1+var2\n",
    "print(\"the result of var1+var2 is:\",sum)\n"
   ]
  },
  {
   "cell_type": "code",
   "execution_count": 2,
   "metadata": {},
   "outputs": [
    {
     "name": "stdout",
     "output_type": "stream",
     "text": [
      "the result of var1+var2 is: 70\n"
     ]
    }
   ],
   "source": [
    "#variable\n",
    "var1=40\n",
    "var2=30\n",
    "sum=var1+var2\n",
    "print(\"the result of var1+var2 is:\",sum)"
   ]
  },
  {
   "cell_type": "code",
   "execution_count": 3,
   "metadata": {},
   "outputs": [
    {
     "name": "stdout",
     "output_type": "stream",
     "text": [
      "the result of var1-var2 is: 5\n"
     ]
    }
   ],
   "source": [
    "#variable\n",
    "var1=10\n",
    "var2=5\n",
    "difference=var1-var2\n",
    "print(\"the result of var1-var2 is:\",difference)"
   ]
  },
  {
   "cell_type": "code",
   "execution_count": 4,
   "metadata": {},
   "outputs": [
    {
     "name": "stdout",
     "output_type": "stream",
     "text": [
      "the result of x+y is: 22\n"
     ]
    }
   ],
   "source": [
    "#variable\n",
    "x=10\n",
    "y=12\n",
    "sum=x+y\n",
    "print(\"the result of x+y is:\",sum)"
   ]
  },
  {
   "cell_type": "code",
   "execution_count": null,
   "metadata": {},
   "outputs": [],
   "source": [
    "a=\"python\"\n",
    "b=\"is\"\n",
    "c=\"programming\"\n",
    "print=(a+b+c)"
   ]
  }
 ],
 "metadata": {
  "kernelspec": {
   "display_name": "Python 3",
   "language": "python",
   "name": "python3"
  },
  "language_info": {
   "codemirror_mode": {
    "name": "ipython",
    "version": 3
   },
   "file_extension": ".py",
   "mimetype": "text/x-python",
   "name": "python",
   "nbconvert_exporter": "python",
   "pygments_lexer": "ipython3",
   "version": "3.12.3"
  }
 },
 "nbformat": 4,
 "nbformat_minor": 2
}
