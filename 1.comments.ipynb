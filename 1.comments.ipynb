{
 "cells": [
  {
   "cell_type": "code",
   "execution_count": 1,
   "metadata": {},
   "outputs": [
    {
     "name": "stdout",
     "output_type": "stream",
     "text": [
      "25 john\n"
     ]
    }
   ],
   "source": [
    "#way of getting values in the variable.\n",
    "#assign values to variable directly.\n",
    "number1=25\n",
    "name=\"john\"\n",
    "print(number1,name)"
   ]
  },
  {
   "cell_type": "code",
   "execution_count": 2,
   "metadata": {},
   "outputs": [
    {
     "name": "stdout",
     "output_type": "stream",
     "text": [
      "70 sellay etc colony\n"
     ]
    }
   ],
   "source": [
    "num1=70\n",
    "name=\"sellay\"\n",
    "address=\"etc colony\"\n",
    "print(num1,name,address)"
   ]
  },
  {
   "cell_type": "code",
   "execution_count": 3,
   "metadata": {},
   "outputs": [
    {
     "name": "stdout",
     "output_type": "stream",
     "text": [
      "pakistan london china\n"
     ]
    }
   ],
   "source": [
    "name1=\"pakistan\"\n",
    "name2=\"london\"\n",
    "name3=\"china\"\n",
    "print(name1,name2,name3)"
   ]
  },
  {
   "cell_type": "code",
   "execution_count": 4,
   "metadata": {},
   "outputs": [
    {
     "name": "stdout",
     "output_type": "stream",
     "text": [
      "90 20\n"
     ]
    }
   ],
   "source": [
    "#values into variable.\n",
    "value1=input(\"enter value\")\n",
    "value=input(\"enter name\")\n",
    "print(value1,value)"
   ]
  },
  {
   "cell_type": "code",
   "execution_count": 5,
   "metadata": {},
   "outputs": [
    {
     "name": "stdout",
     "output_type": "stream",
     "text": [
      "value of y: 3\n"
     ]
    }
   ],
   "source": [
    "#xyz will be 3\n",
    "x=str(3)\n",
    "y=int(3)\n",
    "z=float(3)\n",
    "print(\"value of y:\",y)"
   ]
  },
  {
   "cell_type": "code",
   "execution_count": null,
   "metadata": {},
   "outputs": [],
   "source": [
    "print(\"value of \")"
   ]
  },
  {
   "cell_type": "code",
   "execution_count": null,
   "metadata": {},
   "outputs": [],
   "source": []
  }
 ],
 "metadata": {
  "kernelspec": {
   "display_name": "Python 3",
   "language": "python",
   "name": "python3"
  },
  "language_info": {
   "codemirror_mode": {
    "name": "ipython",
    "version": 3
   },
   "file_extension": ".py",
   "mimetype": "text/x-python",
   "name": "python",
   "nbconvert_exporter": "python",
   "pygments_lexer": "ipython3",
   "version": "3.12.3"
  }
 },
 "nbformat": 4,
 "nbformat_minor": 2
}
